{
 "cells": [
  {
   "cell_type": "code",
   "execution_count": null,
   "metadata": {},
   "outputs": [],
   "source": [
    "%matplotlib inline\n",
    "%config InlineBackend.figure_format = 'png'"
   ]
  },
  {
   "cell_type": "code",
   "execution_count": null,
   "metadata": {},
   "outputs": [],
   "source": [
    "import numpy as np\n",
    "import msprime as msprime\n",
    "import matplotlib.pyplot as plt\n",
    "\n",
    "def degrees_of_separation(N=50, L=int(10), m=5e-1, seed=None, *args, **kwargs):\n",
    "        '''Calculates genomic degrees of separation for trees'''\n",
    "        ts = msprime.sim_ancestry(\n",
    "                N, \n",
    "                ploidy=1,\n",
    "                sequence_length=L,\n",
    "                random_seed=seed\n",
    "                )\n",
    "\n",
    "        mts = msprime.sim_mutations(\n",
    "                ts, \n",
    "                model=msprime.BinaryMutationModel(),\n",
    "                rate=m,\n",
    "                random_seed=seed,\n",
    "                discrete_genome=False\n",
    "                )  \n",
    "        \n",
    "        # retrieve all SNP loci and genotype matrices\n",
    "        SNPs = [(var.site.position, var.genotypes) for var in mts.variants()]\n",
    "        all_xor = []\n",
    "\n",
    "        # compare iterates comparing all components without repeat\n",
    "        for i in range(len(SNPs)):\n",
    "                for j in range(i+1,len(SNPs)):\n",
    "                        # bitwise xor of current two vectors\n",
    "                        geno_xor = SNPs[i][1]!=SNPs[j][1]\n",
    "                        all_xor.append(np.sum(geno_xor))\n",
    "        # counts each unique separtion \n",
    "        unique, counts = np.unique(all_xor, return_counts=True)\n",
    "        # dictionary of separations - allows us to create a distibution if needed\n",
    "        count_dist=dict(zip(unique, counts))\n",
    "        # number of times one degree of separation present\n",
    "        one_sep_count=count_dist.get(1)\n",
    "        \n",
    "        return N, one_sep_count\n"
   ]
  },
  {
   "cell_type": "code",
   "execution_count": null,
   "metadata": {},
   "outputs": [],
   "source": [
    "NO_SEEDS=100\n",
    "def one_timer(N, L=10, m=0.5):\n",
    "        ones_ratios_def=[]\n",
    "        # find how many ones appear for a set number of seeds\n",
    "        for counter in  range(1,NO_SEEDS):\n",
    "                N, one_sep_count = degrees_of_separation(N=N, seed=counter, L=L, m=m)\n",
    "                if not one_sep_count == None and one_sep_count > 0:\n",
    "                        ones_ratios_def.append(one_sep_count/N)\n",
    "        return np.sum(ones_ratios_def)/NO_SEEDS\n",
    "\n",
    "ones_N=[]\n",
    "N_range = np.arange(3,100)\n",
    "# run for number of N \n",
    "for N in N_range:\n",
    "        print(N)\n",
    "        ones_N.append(one_timer(N))"
   ]
  },
  {
   "cell_type": "code",
   "execution_count": null,
   "metadata": {},
   "outputs": [],
   "source": [
    "# plotting\n",
    "\n",
    "fig, ax = plt.subplots()\n",
    "ax.set_xlabel(r'$N$')\n",
    "ax.set_ylabel(r'Mean times $S_{g} = 1$')\n",
    "ax.set_title(r'Mean times $S_{g} = 1$ vs. $N$')\n",
    "ax.grid()\n",
    "ax.plot(N_range,ones_N)\n",
    "\n",
    "fig, ax2 = plt.subplots()\n",
    "ax2.set_xscale(\"log\")\n",
    "ax2.set_yscale(\"log\")\n",
    "ax2.set_xlabel(r'$log(N)$')\n",
    "ax2.set_ylabel(r'$log$(mean times $S_{g} = 1)$')\n",
    "ax2.set_title(r'$log$(mean times $S_{g} = 1)$ vs. $log(N)$')\n",
    "ax2.grid()\n",
    "ax2.plot(N_range,ones_N)\n",
    "plt.show()"
   ]
  }
 ],
 "metadata": {
  "interpreter": {
   "hash": "c69a9997089f27056cf59ddd46ecd0608f83a003c009680939ddabbbe7d0b9c3"
  },
  "kernelspec": {
   "display_name": "Python 3.9.7 ('msprime-env')",
   "language": "python",
   "name": "python3"
  },
  "language_info": {
   "codemirror_mode": {
    "name": "ipython",
    "version": 3
   },
   "file_extension": ".py",
   "mimetype": "text/x-python",
   "name": "python",
   "nbconvert_exporter": "python",
   "pygments_lexer": "ipython3",
   "version": "3.9.7"
  },
  "orig_nbformat": 4
 },
 "nbformat": 4,
 "nbformat_minor": 2
}
